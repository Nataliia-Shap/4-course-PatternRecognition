{
  "nbformat": 4,
  "nbformat_minor": 0,
  "metadata": {
    "colab": {
      "name": "Приклад 5_1_.ipynb",
      "provenance": [],
      "authorship_tag": "ABX9TyMEoauXiNdTjSmISWzU67Bw",
      "include_colab_link": true
    },
    "kernelspec": {
      "name": "python3",
      "display_name": "Python 3"
    },
    "language_info": {
      "name": "python"
    }
  },
  "cells": [
    {
      "cell_type": "markdown",
      "metadata": {
        "id": "view-in-github",
        "colab_type": "text"
      },
      "source": [
        "<a href=\"https://colab.research.google.com/github/Nataliia-Shap/4-course-PatternRecognition/blob/main/%D0%9F%D1%80%D0%B8%D0%BA%D0%BB%D0%B0%D0%B4_5_1_.ipynb\" target=\"_parent\"><img src=\"https://colab.research.google.com/assets/colab-badge.svg\" alt=\"Open In Colab\"/></a>"
      ]
    },
    {
      "cell_type": "markdown",
      "metadata": {
        "id": "LvtVCcd7btjZ"
      },
      "source": [
        "### Приклад 1. "
      ]
    },
    {
      "cell_type": "code",
      "metadata": {
        "colab": {
          "base_uri": "https://localhost:8080/",
          "height": 310
        },
        "id": "QwCcv518b0bR",
        "outputId": "b00b06e7-5409-4d45-dcaf-4dbdae3582b1"
      },
      "source": [
        "# необхідні бібліотеки\n",
        "import numpy as np\n",
        "import random\n",
        "from keras.datasets import mnist\n",
        "# класифікатор та метрики\n",
        "from sklearn.cluster import KMeans\n",
        "from sklearn.decomposition import PCA\n",
        "from sklearn.metrics import accuracy_score\n",
        "from sklearn.metrics import confusion_matrix\n",
        "import matplotlib.pyplot as plt\n",
        "from sklearn.datasets import make_blobs\n",
        "from sklearn.datasets import load_digits\n",
        "import matplotlib.pyplot as plt \n",
        "from sklearn.cluster import KMeans\n",
        "from sklearn.decomposition import PCA\n",
        "from sklearn.naive_bayes import GaussianNB,MultinomialNB\n",
        "# завантажимо дані та розіб'ємо на навчальну та перевірочну\n",
        "digits = load_digits()\n",
        "print(digits.data.shape)\n",
        "plt.gray() \n",
        "plt.matshow(digits.images[0]) \n",
        "plt.show() \n",
        "data, labels = load_digits(return_X_y=True)\n",
        "(n_samples, n_features), n_digits = data.shape, np.unique(labels).size\n",
        "#data_pca = PCA(n_components=n_digits).fit_transform(data)\n",
        "#data=data_pca\n",
        "data_train=data[0:1436,:]\n",
        "data_test=data[1437:1797,:]\n",
        "labels_train=labels[0:1436]\n",
        "labels_test=labels[1437:1797]\n",
        "\n"
      ],
      "execution_count": 22,
      "outputs": [
        {
          "output_type": "stream",
          "name": "stdout",
          "text": [
            "(1797, 64)\n"
          ]
        },
        {
          "output_type": "display_data",
          "data": {
            "text/plain": [
              "<Figure size 432x288 with 0 Axes>"
            ]
          },
          "metadata": {}
        },
        {
          "output_type": "display_data",
          "data": {
            "image/png": "[encoded data removed]",
            "text/plain": [
              "<Figure size 288x288 with 1 Axes>"
            ]
          },
          "metadata": {
            "needs_background": "light"
          }
        }
      ]
    },
    {
      "cell_type": "markdown",
      "metadata": {
        "id": "tdaTxlZZcYJx"
      },
      "source": [
        "### Байєсівський класифікатор"
      ]
    },
    {
      "cell_type": "code",
      "metadata": {
        "colab": {
          "base_uri": "https://localhost:8080/",
          "height": 657
        },
        "id": "QiUfR5mMcf4o",
        "outputId": "dda66220-77cb-43e5-c026-a8a1c99c244a"
      },
      "source": [
        "clf_nb = MultinomialNB()\n",
        "clf_nb.fit(data_train,labels_train)\n",
        "# зробимо класифікацію за допомогою навченою моделі\n",
        "y_test_pred_nb = clf_nb.predict(data_test)\n",
        "lbl_NB = np.zeros(20)\n",
        "lbl_= np.zeros(20)\n",
        "for i in range(1,21):\n",
        "  im_idx = random.randint(0,360)\n",
        "  lbl_NB[i-1]=y_test_pred_nb[im_idx]\n",
        "  lbl_[i-1]=labels_train[im_idx]\n",
        "  plt.subplot(5, 4, i)\n",
        "  plt.imshow(digits.images[im_idx], cmap='gray')\n",
        "  plt.axis('off')\n",
        "plt.show()\n",
        "print(lbl_NB[:20])\n",
        "print(lbl_[:20])\n",
        "a_NB = accuracy_score(labels_test, y_test_pred_nb)\n",
        "print(a_NB)\n",
        "#print(labels_test)\n",
        "#print(y_test_pred_nb)"
      ],
      "execution_count": 10,
      "outputs": [
        {
          "output_type": "display_data",
          "data": {
            "image/png": "[encoded data removed]",
            "text/plain": [
              "<Figure size 432x288 with 20 Axes>"
            ]
          },
          "metadata": {
            "needs_background": "light"
          }
        },
        {
          "output_type": "stream",
          "name": "stdout",
          "text": [
            "[9. 0. 4. 3. 6. 9. 5. 6. 4. 4. 5. 9. 7. 8. 7. 8. 3. 9. 3. 8.]\n",
            "[9. 4. 7. 2. 9. 5. 3. 7. 3. 1. 2. 4. 5. 6. 9. 4. 2. 1. 7. 0.]\n",
            "0.8361111111111111\n",
            "[2 3 4 5 6 7 8 9 0 9 5 5 6 5 0 9 8 9 8 4 1 7 7 3 5 1 0 0 2 2 7 8 2 0 1 2 6\n",
            " 3 3 7 3 3 4 6 6 6 4 9 1 5 0 9 5 2 8 2 0 0 1 7 6 3 2 1 7 4 6 3 1 3 9 1 7 6\n",
            " 8 4 3 1 4 0 5 3 6 9 6 1 7 5 4 4 7 2 8 2 2 5 7 9 5 4 8 8 4 9 0 8 9 8 0 1 2\n",
            " 3 4 5 6 7 8 9 0 1 2 3 4 5 6 9 0 1 2 3 4 5 6 7 8 9 0 9 5 5 6 5 0 9 8 9 8 4\n",
            " 1 7 7 3 5 1 0 0 2 2 7 8 2 0 1 2 6 3 3 7 3 3 4 6 6 6 4 9 1 5 0 9 5 2 8 0 1\n",
            " 7 6 3 2 1 7 4 6 3 1 3 9 1 7 6 8 4 3 1 4 0 5 3 6 9 6 1 7 5 4 4 7 2 2 5 7 9\n",
            " 5 4 4 9 0 8 9 8 0 1 2 3 4 5 6 7 8 9 0 1 2 3 4 5 6 7 8 9 0 1 2 3 4 5 6 7 8\n",
            " 9 0 9 5 5 6 5 0 9 8 9 8 4 1 7 7 3 5 1 0 0 2 2 7 8 2 0 1 2 6 3 3 7 3 3 4 6\n",
            " 6 6 4 9 1 5 0 9 5 2 8 2 0 0 1 7 6 3 2 1 7 4 6 3 1 3 9 1 7 6 8 4 3 1 4 0 5\n",
            " 3 6 9 6 1 7 5 4 4 7 2 8 2 2 5 7 9 5 4 8 8 4 9 0 8 9 8]\n",
            "[2 3 4 9 6 7 8 9 0 9 5 5 6 5 0 9 8 3 8 4 9 7 7 3 9 9 0 0 2 2 7 9 2 0 9 2 6\n",
            " 3 3 7 3 3 4 6 6 6 4 9 9 5 0 9 5 2 9 2 0 0 9 7 6 3 2 9 7 4 6 3 1 3 9 9 7 6\n",
            " 8 4 3 9 4 0 9 3 6 9 6 9 7 9 4 4 7 2 9 2 2 5 7 9 5 4 8 8 4 9 0 8 9 8 0 1 2\n",
            " 3 4 5 6 8 1 9 0 1 2 3 4 5 6 7 0 1 2 3 4 5 1 7 8 7 4 9 5 5 6 5 0 8 4 5 8 4\n",
            " 1 7 7 8 5 1 4 0 0 2 7 8 1 0 1 2 6 8 7 7 7 8 4 6 6 6 8 9 1 5 4 9 5 2 8 0 1\n",
            " 7 6 3 2 1 7 8 6 3 1 3 7 1 8 6 8 4 3 1 4 0 5 3 6 9 6 1 7 5 4 4 7 2 2 5 7 8\n",
            " 5 8 4 5 0 8 7 7 0 1 2 3 4 5 6 7 8 9 0 1 2 8 4 5 6 7 8 9 0 1 2 8 4 4 6 7 8\n",
            " 9 0 9 5 5 6 5 0 9 8 9 8 4 1 7 7 7 5 1 0 0 2 2 7 8 2 0 1 2 6 8 8 7 9 8 4 6\n",
            " 6 6 4 9 8 5 0 9 5 2 8 2 0 0 8 7 6 3 2 1 4 4 6 3 1 3 9 1 7 6 8 4 5 1 4 0 5\n",
            " 3 6 9 6 1 7 5 4 4 7 2 8 2 2 9 7 9 9 4 8 1 4 9 0 8 9 8]\n"
          ]
        }
      ]
    },
    {
      "cell_type": "markdown",
      "metadata": {
        "id": "wDgJGCCjdwCR"
      },
      "source": [
        "### kmeans"
      ]
    },
    {
      "cell_type": "code",
      "metadata": {
        "colab": {
          "base_uri": "https://localhost:8080/",
          "height": 586
        },
        "id": "RmV7mpzPd8fw",
        "outputId": "6c7093bf-2afb-4b06-8d0e-1ed269980293"
      },
      "source": [
        "kmeans = KMeans(init=\"k-means++\", n_clusters=n_digits, n_init=4,random_state=0).fit(data_pca)\n",
        "#Використаємо навчений класифікатор\n",
        "km_predict=kmeans.predict(data_test)\n",
        "reference_labels = {}\n",
        "for i in range(len(np.unique(km_predict))):\n",
        "  index = np.where(km_predict == i,1,0)\n",
        "  num = np.bincount(labels_test[index==1]).argmax()\n",
        "  reference_labels[i] = num\n",
        "  number_labels = np.random.rand(len(km_predict))\n",
        "for i in range(len(km_predict)):\n",
        "  number_labels[i] = reference_labels[km_predict[i]]\n",
        "lbl_kmeans = np.zeros(20)\n",
        "lbl_= np.zeros(20)\n",
        "for i in range(1,21):\n",
        "  im_idx = random.randint(0,360)\n",
        "  lbl_kmeans[i-1]=number_labels[im_idx]\n",
        "  lbl_[i-1]=labels_test[im_idx]\n",
        "  plt.subplot(5, 4, i)\n",
        "  plt.imshow(digits.images[im_idx], cmap='gray')\n",
        "  plt.axis('off')\n",
        "plt.show()\n",
        "print(lbl_kmeans[:20])\n",
        "print(lbl_[:20])\n",
        "a_km = accuracy_score(labels_test, number_labels)\n",
        "print(a_km)"
      ],
      "execution_count": 14,
      "outputs": [
        {
          "output_type": "display_data",
          "data": {
            "image/png": "[encoded data removed]",
            "text/plain": [
              "<Figure size 432x288 with 20 Axes>"
            ]
          },
          "metadata": {
            "needs_background": "light"
          }
        },
        {
          "output_type": "stream",
          "name": "stdout",
          "text": [
            "[7. 2. 1. 7. 4. 8. 7. 0. 7. 2. 8. 8. 8. 5. 4. 9. 2. 2. 4. 5.]\n",
            "[7. 2. 1. 7. 4. 8. 7. 0. 3. 2. 8. 8. 1. 5. 4. 9. 2. 1. 4. 5.]\n",
            "0.807799442896936\n"
          ]
        },
        {
          "output_type": "display_data",
          "data": {
            "image/png": "[encoded data removed]",
            "text/plain": [
              "<Figure size 432x288 with 20 Axes>"
            ]
          },
          "metadata": {
            "needs_background": "light"
          }
        },
        {
          "output_type": "stream",
          "name": "stdout",
          "text": [
            "[3. 5. 5. 2. 2. 0. 7. 6. 4. 4. 7. 1. 5. 9. 2. 7. 7. 5. 1. 0.]\n",
            "[3. 5. 5. 2. 2. 0. 7. 6. 4. 4. 7. 1. 3. 9. 2. 9. 7. 5. 1. 0.]\n",
            "0.7583333333333333\n"
          ]
        }
      ]
    },
    {
      "cell_type": "markdown",
      "metadata": {
        "id": "fEUD8dpQeinw"
      },
      "source": [
        "### kmedoid"
      ]
    },
    {
      "cell_type": "code",
      "metadata": {
        "colab": {
          "base_uri": "https://localhost:8080/",
          "height": 1000
        },
        "id": "1rPK5qzdeo8o",
        "outputId": "f3f4bd50-d238-4647-c9fc-d291d9fe6663"
      },
      "source": [
        "!pip install scikit-learn-extra API\n",
        "from sklearn_extra.cluster import KMedoids\n",
        "kmedoid = KMedoids(n_clusters=n_digits, random_state=0).fit(data_test)\n",
        "#Використаємо навчений класифікатор\n",
        "km_predict=kmedoid.predict(data_test)\n",
        "reference_labels = {}\n",
        "for i in range(len(np.unique(km_predict))):\n",
        "  index = np.where(km_predict == i,1,0)\n",
        "  num = np.bincount(labels_test[index==1]).argmax()\n",
        "  reference_labels[i] = num\n",
        "  number_labels = np.random.rand(len(km_predict))\n",
        "for i in range(len(km_predict)):\n",
        "  number_labels[i] = reference_labels[km_predict[i]]\n",
        "lbl_kmedoid = np.zeros(20)\n",
        "lbl_= np.zeros(20)\n",
        "for i in range(1,21):\n",
        "  im_idx = random.randint(0,360)\n",
        "  lbl_kmedoid[i-1]=number_labels[im_idx]\n",
        "  lbl_[i-1]=labels_test[im_idx]\n",
        "  plt.subplot(5, 4, i)\n",
        "  plt.imshow(digits.images[im_idx], cmap='gray')\n",
        "  plt.axis('off')\n",
        "plt.show()\n",
        "print(lbl_kmedoid[:20])\n",
        "print(lbl_[:20])\n",
        "a_km = accuracy_score(labels_test, number_labels)\n",
        "print(a_km)"
      ],
      "execution_count": 28,
      "outputs": [
        {
          "output_type": "stream",
          "name": "stdout",
          "text": [
            "Requirement already satisfied: scikit-learn-extra in /usr/local/lib/python3.7/dist-packages (0.2.0)\n",
            "Requirement already satisfied: API in /usr/local/lib/python3.7/dist-packages (0.0.7)\n",
            "Requirement already satisfied: numpy>=1.13.3 in /usr/local/lib/python3.7/dist-packages (from scikit-learn-extra) (1.19.5)\n",
            "Requirement already satisfied: scikit-learn>=0.23.0 in /usr/local/lib/python3.7/dist-packages (from scikit-learn-extra) (0.24.2)\n",
            "Requirement already satisfied: scipy>=0.19.1 in /usr/local/lib/python3.7/dist-packages (from scikit-learn-extra) (1.4.1)\n",
            "Requirement already satisfied: threadpoolctl>=2.0.0 in /usr/local/lib/python3.7/dist-packages (from scikit-learn>=0.23.0->scikit-learn-extra) (2.2.0)\n",
            "Requirement already satisfied: joblib>=0.11 in /usr/local/lib/python3.7/dist-packages (from scikit-learn>=0.23.0->scikit-learn-extra) (1.0.1)\n",
            "Requirement already satisfied: nose in /usr/local/lib/python3.7/dist-packages (from API) (1.3.7)\n",
            "Requirement already satisfied: requests in /usr/local/lib/python3.7/dist-packages (from API) (2.23.0)\n",
            "Requirement already satisfied: certifi>=2017.4.17 in /usr/local/lib/python3.7/dist-packages (from requests->API) (2021.5.30)\n",
            "Requirement already satisfied: urllib3!=1.25.0,!=1.25.1,<1.26,>=1.21.1 in /usr/local/lib/python3.7/dist-packages (from requests->API) (1.24.3)\n",
            "Requirement already satisfied: idna<3,>=2.5 in /usr/local/lib/python3.7/dist-packages (from requests->API) (2.10)\n",
            "Requirement already satisfied: chardet<4,>=3.0.2 in /usr/local/lib/python3.7/dist-packages (from requests->API) (3.0.4)\n",
            "[2. 2. 7. 6. 6. 7. 1. 9. 9. 9. 1. 1. 6. 1. 9. 9. 8. 9. 8. 4. 1. 7. 7. 1.\n",
            " 9. 1. 9. 9. 2. 2. 7. 1. 2. 9. 1. 2. 6. 2. 2. 7. 9. 9. 7. 6. 6. 6. 7. 9.\n",
            " 1. 1. 9. 9. 6. 2. 1. 2. 9. 9. 1. 7. 6. 2. 2. 1. 7. 4. 6. 1. 1. 9. 9. 1.\n",
            " 7. 6. 8. 7. 1. 9. 7. 9. 9. 2. 6. 9. 6. 1. 7. 9. 4. 7. 7. 2. 8. 2. 2. 6.\n",
            " 7. 9. 8. 4. 8. 8. 4. 9. 9. 8. 9. 8. 6. 1. 2. 1. 7. 5. 4. 7. 1. 1. 6. 1.\n",
            " 1. 8. 7. 5. 4. 1. 6. 1. 7. 8. 7. 5. 4. 7. 5. 1. 7. 1. 5. 5. 4. 5. 6. 5.\n",
            " 7. 5. 4. 7. 1. 7. 7. 5. 5. 1. 4. 9. 9. 2. 7. 5. 1. 6. 1. 2. 4. 5. 5. 7.\n",
            " 7. 5. 7. 4. 4. 4. 5. 1. 1. 5. 4. 9. 1. 1. 4. 6. 1. 7. 4. 5. 2. 1. 7. 5.\n",
            " 4. 1. 1. 8. 7. 1. 7. 4. 8. 6. 8. 1. 7. 6. 5. 9. 4. 9. 4. 1. 7. 5. 7. 7.\n",
            " 7. 2. 1. 5. 7. 8. 5. 5. 7. 5. 9. 1. 5. 7. 9. 1. 2. 1. 4. 1. 6. 7. 5. 9.\n",
            " 9. 1. 2. 5. 4. 8. 6. 7. 1. 9. 9. 1. 2. 5. 4. 6. 6. 7. 1. 9. 9. 9. 5. 8.\n",
            " 6. 5. 6. 9. 4. 9. 5. 7. 1. 7. 7. 5. 1. 1. 9. 6. 2. 2. 7. 5. 2. 7. 1. 2.\n",
            " 6. 8. 5. 7. 4. 5. 4. 4. 6. 6. 4. 9. 1. 1. 9. 9. 6. 2. 1. 2. 6. 9. 1. 7.\n",
            " 6. 5. 2. 1. 7. 4. 4. 1. 1. 1. 9. 1. 7. 6. 5. 4. 5. 1. 4. 6. 1. 1. 4. 9.\n",
            " 6. 1. 7. 6. 4. 4. 7. 2. 1. 2. 2. 1. 7. 9. 9. 4. 1. 1. 4. 9. 6. 1. 8. 4.]\n",
            "[2 3 4 5 6 7 8 9 0 9 5 5 6 5 0 9 8 9 8 4 1 7 7 3 5 1 0 0 2 2 7 8 2 0 1 2 6\n",
            " 3 3 7 3 3 4 6 6 6 4 9 1 5 0 9 5 2 8 2 0 0 1 7 6 3 2 1 7 4 6 3 1 3 9 1 7 6\n",
            " 8 4 3 1 4 0 5 3 6 9 6 1 7 5 4 4 7 2 8 2 2 5 7 9 5 4 8 8 4 9 0 8 9 8 0 1 2\n",
            " 3 4 5 6 7 8 9 0 1 2 3 4 5 6 9 0 1 2 3 4 5 6 7 8 9 0 9 5 5 6 5 0 9 8 9 8 4\n",
            " 1 7 7 3 5 1 0 0 2 2 7 8 2 0 1 2 6 3 3 7 3 3 4 6 6 6 4 9 1 5 0 9 5 2 8 0 1\n",
            " 7 6 3 2 1 7 4 6 3 1 3 9 1 7 6 8 4 3 1 4 0 5 3 6 9 6 1 7 5 4 4 7 2 2 5 7 9\n",
            " 5 4 4 9 0 8 9 8 0 1 2 3 4 5 6 7 8 9 0 1 2 3 4 5 6 7 8 9 0 1 2 3 4 5 6 7 8\n",
            " 9 0 9 5 5 6 5 0 9 8 9 8 4 1 7 7 3 5 1 0 0 2 2 7 8 2 0 1 2 6 3 3 7 3 3 4 6\n",
            " 6 6 4 9 1 5 0 9 5 2 8 2 0 0 1 7 6 3 2 1 7 4 6 3 1 3 9 1 7 6 8 4 3 1 4 0 5\n",
            " 3 6 9 6 1 7 5 4 4 7 2 8 2 2 5 7 9 5 4 8 8 4 9 0 8 9 8]\n",
            "[9 9 1 7 7 1 0 3 3 3 0 0 7 0 3 3 6 3 6 8 0 1 1 0 3 0 3 3 9 9 1 0 9 3 0 9 7\n",
            " 9 9 1 3 3 1 7 7 7 1 3 0 0 3 3 7 9 0 9 3 3 0 1 7 9 9 0 1 8 7 0 0 3 3 0 1 7\n",
            " 6 1 0 3 1 3 3 9 7 3 7 0 1 3 8 1 1 9 6 9 9 7 1 3 6 8 6 6 8 3 3 6 3 6 7 2 9\n",
            " 0 1 5 8 4 2 0 7 2 0 6 1 5 8 0 7 2 1 6 1 5 8 4 5 0 1 0 5 5 8 5 7 5 1 5 8 1\n",
            " 2 4 4 5 5 2 8 3 3 9 4 5 0 7 2 9 8 5 5 4 1 5 1 8 8 8 5 0 2 5 8 3 2 0 8 7 2\n",
            " 4 8 5 9 2 4 5 8 0 2 6 1 2 4 8 6 7 6 2 1 7 5 3 8 3 8 2 1 5 1 1 4 9 0 5 4 6\n",
            " 5 5 1 5 3 2 5 4 3 2 9 0 8 0 7 4 5 3 3 2 9 5 8 6 7 1 2 3 3 2 9 5 8 7 7 4 2\n",
            " 3 3 3 5 6 7 5 7 3 8 3 5 1 2 1 1 5 0 2 3 7 9 9 4 5 9 1 2 9 7 6 5 1 8 5 8 8\n",
            " 7 7 8 3 2 0 3 3 7 9 2 9 7 3 2 4 7 5 9 2 4 8 8 0 2 0 3 2 1 7 5 8 5 2 8 7 0\n",
            " 0 8 3 7 2 4 7 8 8 1 9 2 9 9 0 4 3 3 8 2 2 8 3 7 2 6 8]\n"
          ]
        },
        {
          "output_type": "display_data",
          "data": {
            "image/png": "[encoded data removed]",
            "text/plain": [
              "<Figure size 432x288 with 20 Axes>"
            ]
          },
          "metadata": {
            "needs_background": "light"
          }
        },
        {
          "output_type": "stream",
          "name": "stdout",
          "text": [
            "[6. 9. 1. 5. 7. 1. 6. 8. 1. 6. 9. 1. 9. 1. 4. 2. 1. 6. 7. 7.]\n",
            "[0. 9. 5. 5. 7. 5. 6. 9. 5. 6. 0. 8. 9. 1. 8. 2. 1. 6. 7. 0.]\n",
            "0.5166666666666667\n"
          ]
        }
      ]
    },
    {
      "cell_type": "markdown",
      "metadata": {
        "id": "OZ1qg_YxnTfq"
      },
      "source": [
        "### Ієрархічна кластеризація"
      ]
    },
    {
      "cell_type": "code",
      "metadata": {
        "colab": {
          "base_uri": "https://localhost:8080/",
          "height": 301
        },
        "id": "plLziA0EnaVB",
        "outputId": "1b40edfa-62a2-4790-90d7-d24cf317435d"
      },
      "source": [
        "from sklearn.cluster import AgglomerativeClustering\n",
        "ac_predict= AgglomerativeClustering(n_clusters=n_digits).fit_predict(data)\n",
        "#Використаємо навчений класифікатор\n",
        "#ac_predict=AC.predict(data_test)\n",
        "reference_labels = {}\n",
        "for i in range(len(np.unique(ac_predict))):\n",
        "  index = np.where(ac_predict == i,1,0)\n",
        "  num = np.bincount(labels[index==1]).argmax()\n",
        "  reference_labels[i] = num\n",
        "  number_labels = np.random.rand(len(ac_predict))\n",
        "for i in range(len(ac_predict)):\n",
        "  number_labels[i] = reference_labels[ac_predict[i]]\n",
        "lbl_ac = np.zeros(20)\n",
        "lbl_= np.zeros(20)\n",
        "for i in range(1,21):\n",
        "  im_idx = random.randint(0,1767)\n",
        "  lbl_ac[i-1]=number_labels[im_idx]\n",
        "  lbl_[i-1]=labels[im_idx]\n",
        "  plt.subplot(5, 4, i)\n",
        "  plt.imshow(digits.images[im_idx], cmap='gray')\n",
        "  plt.axis('off')\n",
        "plt.show()\n",
        "print(lbl_ac[:20])\n",
        "print(lbl_[:20])\n",
        "a_ac = accuracy_score(labels, number_labels)\n",
        "print(a_ac)\n"
      ],
      "execution_count": 32,
      "outputs": [
        {
          "output_type": "display_data",
          "data": {
            "image/png": "[encoded data removed]",
            "text/plain": [
              "<Figure size 432x288 with 20 Axes>"
            ]
          },
          "metadata": {
            "needs_background": "light"
          }
        },
        {
          "output_type": "stream",
          "name": "stdout",
          "text": [
            "[6. 2. 1. 8. 8. 2. 1. 1. 8. 7. 6. 5. 6. 2. 1. 2. 3. 0. 5. 1.]\n",
            "[6. 1. 1. 8. 2. 2. 8. 1. 8. 7. 6. 5. 6. 2. 8. 2. 3. 0. 5. 1.]\n",
            "0.7846410684474123\n"
          ]
        }
      ]
    },
    {
      "cell_type": "markdown",
      "metadata": {
        "id": "u21WQicupbCq"
      },
      "source": [
        "### Affinity Propagation"
      ]
    },
    {
      "cell_type": "code",
      "metadata": {
        "colab": {
          "base_uri": "https://localhost:8080/",
          "height": 319
        },
        "id": "Oir5h_sZppJh",
        "outputId": "5c25b0bf-89db-432f-df10-f4fc0f8f1f3e"
      },
      "source": [
        "from sklearn.cluster import AffinityPropagation\n",
        "af = AffinityPropagation().fit(data)\n",
        "af_predict = af.labels_\n",
        "print(af_predict)\n",
        "reference_labels = {}\n",
        "for i in range(len(np.unique(af_predict))):\n",
        "  index = np.where(af_predict == i,1,0)\n",
        "  num = np.bincount(labels[index==1]).argmax()\n",
        "  reference_labels[i] = num\n",
        "  number_labels = np.random.rand(len(af_predict))\n",
        "for i in range(len(af_predict)):\n",
        "  number_labels[i] = reference_labels[af_predict[i]]\n",
        "lbl_ac = np.zeros(20)\n",
        "lbl_= np.zeros(20)\n",
        "for i in range(1,21):\n",
        "  im_idx = random.randint(0,1767)\n",
        "  lbl_ac[i-1]=number_labels[im_idx]\n",
        "  lbl_[i-1]=labels[im_idx]\n",
        "  plt.subplot(5, 4, i)\n",
        "  plt.imshow(digits.images[im_idx], cmap='gray')\n",
        "  plt.axis('off')\n",
        "plt.show()\n",
        "print(lbl_ac[:20])\n",
        "print(lbl_[:20])\n",
        "a_ac = accuracy_score(labels, number_labels)\n",
        "print(a_ac)"
      ],
      "execution_count": 35,
      "outputs": [
        {
          "output_type": "stream",
          "name": "stdout",
          "text": [
            "[52 71  3 ... 61 21 42]\n"
          ]
        },
        {
          "output_type": "display_data",
          "data": {
            "image/png": "[encoded data removed]",
            "text/plain": [
              "<Figure size 432x288 with 20 Axes>"
            ]
          },
          "metadata": {
            "needs_background": "light"
          }
        },
        {
          "output_type": "stream",
          "name": "stdout",
          "text": [
            "[1. 1. 1. 4. 3. 2. 4. 7. 3. 6. 6. 4. 9. 5. 2. 4. 4. 0. 0. 1.]\n",
            "[1. 1. 1. 4. 3. 2. 4. 7. 3. 6. 6. 4. 9. 9. 2. 4. 4. 0. 0. 1.]\n",
            "0.9543683917640512\n"
          ]
        }
      ]
    }
  ]
}