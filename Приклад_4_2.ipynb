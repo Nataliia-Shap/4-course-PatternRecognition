{
  "nbformat": 4,
  "nbformat_minor": 0,
  "metadata": {
    "colab": {
      "name": "Приклад 4_2.ipynb",
      "provenance": [],
      "authorship_tag": "ABX9TyPYbd0GYvZ/RtLQmf2C25Kr",
      "include_colab_link": true
    },
    "kernelspec": {
      "name": "python3",
      "display_name": "Python 3"
    },
    "language_info": {
      "name": "python"
    }
  },
  "cells": [
    {
      "cell_type": "markdown",
      "metadata": {
        "id": "view-in-github",
        "colab_type": "text"
      },
      "source": [
        "<a href=\"https://colab.research.google.com/github/Nataliia-Shap/4-course-PatternRecognition/blob/main/%D0%9F%D1%80%D0%B8%D0%BA%D0%BB%D0%B0%D0%B4_4_2.ipynb\" target=\"_parent\"><img src=\"https://colab.research.google.com/assets/colab-badge.svg\" alt=\"Open In Colab\"/></a>"
      ]
    },
    {
      "cell_type": "markdown",
      "metadata": {
        "id": "diYKex_9pQNY"
      },
      "source": [
        "### Приклад 4_2"
      ]
    },
    {
      "cell_type": "code",
      "metadata": {
        "colab": {
          "base_uri": "https://localhost:8080/"
        },
        "id": "cBOGPXxkpTk_",
        "outputId": "8355d170-b5b6-453d-cc6b-d837f57a93e5"
      },
      "source": [
        "from numpy import where\n",
        "from sklearn.datasets import make_classification\n",
        "# define dataset\n",
        "X, y = make_classification(n_samples=1000, n_features=20, n_informative=8, n_redundant=7, n_repeated=5, n_clusters_per_class=1,n_classes=2, random_state=4)\n",
        "from sklearn.feature_selection import SelectKBest, f_classif, chi2, mutual_info_classif\n",
        "from sklearn.feature_selection import VarianceThreshold\n",
        "from sklearn.metrics import accuracy_score\n",
        "from sklearn.decomposition import PCA\n",
        "from sklearn.discriminant_analysis import LinearDiscriminantAnalysis\n",
        "from sklearn.naive_bayes import GaussianNB,MultinomialNB\n",
        "x1=X[0:599,:]\n",
        "x2=X[600:799,:]\n",
        "x3=X[800:1000,:]\n",
        "clf_nb = GaussianNB()\n",
        "# навчимо модель\n",
        "clf_nb.fit(x1,y[0:599])\n",
        "# зробимо класифікацію за допомогою навченою моделі\n",
        "y_train_pred_nb = clf_nb.predict(x3)\n",
        "#y_train_pred_nb = clf_nb.predict(X_train)\n",
        "a_nb = accuracy_score(y[800:1000], y_train_pred_nb)\n",
        "print(a_nb)\n",
        "###використаємо метод головних компонент\n",
        "pca = PCA(n_components=8)\n",
        "pca.fit(x2)\n",
        "x1_pca=pca.transform(x1)\n",
        "x3_pca=pca.transform(x3)\n",
        "clf_nb = GaussianNB()\n",
        "# навчимо модель\n",
        "clf_nb.fit(x1_pca,y[0:599])\n",
        "# зробимо класифікацію за допомогою навченою моделі\n",
        "y_train_pred_nb = clf_nb.predict(x3_pca)\n",
        "#y_train_pred_nb = clf_nb.predict(X_train)\n",
        "a_nb = accuracy_score(y[800:1000], y_train_pred_nb)\n",
        "print(a_nb)"
      ],
      "execution_count": 5,
      "outputs": [
        {
          "output_type": "stream",
          "name": "stdout",
          "text": [
            "0.86\n",
            "0.935\n"
          ]
        }
      ]
    },
    {
      "cell_type": "markdown",
      "metadata": {
        "id": "ps37LHo2vTFw"
      },
      "source": [
        "### Використаємо ЛДФ"
      ]
    },
    {
      "cell_type": "code",
      "metadata": {
        "colab": {
          "base_uri": "https://localhost:8080/"
        },
        "id": "JgOJBm_7vWh3",
        "outputId": "3930b171-cbff-4945-930f-f660a364649e"
      },
      "source": [
        "ldf = LinearDiscriminantAnalysis()\n",
        "ldf.fit(X2,y[600:799])\n",
        "x1_ldf=ldf.transform(x1)\n",
        "x3_ldf=ldf.transform(x3)\n",
        "clf_nb = GaussianNB()\n",
        "# навчимо модель\n",
        "clf_nb.fit(x1_ldf,y[0:599])\n",
        "# зробимо класифікацію за допомогою навченою моделі\n",
        "y_train_pred_nb = clf_nb.predict(x3_ldf)\n",
        "#y_train_pred_nb = clf_nb.predict(X_train)\n",
        "a_nb = accuracy_score(y[800:1000], y_train_pred_nb)\n",
        "print(a_nb)"
      ],
      "execution_count": null,
      "outputs": [
        {
          "output_type": "stream",
          "name": "stdout",
          "text": [
            "0.935\n"
          ]
        }
      ]
    },
    {
      "cell_type": "markdown",
      "metadata": {
        "id": "eA8PSHNzw-3q"
      },
      "source": [
        "### Методи фільтри"
      ]
    },
    {
      "cell_type": "code",
      "metadata": {
        "colab": {
          "base_uri": "https://localhost:8080/"
        },
        "id": "8wyIsQi2xIT1",
        "outputId": "f899cdf3-6f64-4cad-dbc0-95b6ffed91c0"
      },
      "source": [
        "kbest=SelectKBest(f_classif, k=8)\n",
        "vt=VarianceThreshold(.1)\n",
        "vt.fit(x2)\n",
        "x_vt_test=vt.transform(x1)\n",
        "print(x_vt_test.shape)\n",
        "x_vt_train=vt.transform(x3)\n",
        "clf_nb = GaussianNB()\n",
        "# навчимо модель\n",
        "clf_nb.fit(x_vt_test,y[0:599])\n",
        "# зробимо класифікацію за допомогою навченою моделі\n",
        "y_train_pred_nb = clf_nb.predict(x_vt_train)\n",
        "#y_train_pred_nb = clf_nb.predict(X_train)\n",
        "a_nb = accuracy_score(y[800:1000], y_train_pred_nb)\n",
        "print(\"VarianceThreshold\",a_nb)\n",
        "\n",
        "kbest.fit(x2,y[600:799])\n",
        "x_kbest_test=kbest.transform(x1)\n",
        "print(x_kbest_test.shape)\n",
        "x_kbest_train=kbest.transform(x3)\n",
        "clf_nb = GaussianNB()\n",
        "# навчимо модель\n",
        "clf_nb.fit(x_kbest_test,y[0:599])\n",
        "# зробимо класифікацію за допомогою навченою моделі\n",
        "y_train_pred_nb = clf_nb.predict(x_kbest_train)\n",
        "#y_train_pred_nb = clf_nb.predict(X_train)\n",
        "a_nb = accuracy_score(y[800:1000], y_train_pred_nb)\n",
        "print(\"kbest\",a_nb)"
      ],
      "execution_count": 9,
      "outputs": [
        {
          "output_type": "stream",
          "name": "stdout",
          "text": [
            "(599, 20)\n",
            "VarianceThreshold 0.86\n",
            "(599, 8)\n",
            "kbest 0.815\n"
          ]
        }
      ]
    },
    {
      "cell_type": "markdown",
      "metadata": {
        "id": "mG4u5l-p0Y-C"
      },
      "source": [
        "### Методи обгортки"
      ]
    },
    {
      "cell_type": "code",
      "metadata": {
        "colab": {
          "base_uri": "https://localhost:8080/"
        },
        "id": "YW82_DC60d-Q",
        "outputId": "64f9a812-f5cb-495d-a610-5e7db3d86dfe"
      },
      "source": [
        "from mlxtend.feature_selection import SequentialFeatureSelector, ExhaustiveFeatureSelector\n",
        "sfs = SequentialFeatureSelector(clf_nb, k_features=8, forward=True)\n",
        "sfs1 = sfs.fit(X2,y[600:799])\n",
        "feat_cols = list(sfs1.k_feature_idx_)\n",
        "clf_nb = GaussianNB()\n",
        "clf_nb.fit(X1[:, feat_cols], y[0:599])\n",
        "y_train_pred = clf_nb.predict(X3[:, feat_cols])\n",
        "a_nb = accuracy_score(y[800:1000], y_train_pred_nb)\n",
        "print(\"SFS\",a_nb)"
      ],
      "execution_count": null,
      "outputs": [
        {
          "output_type": "stream",
          "name": "stdout",
          "text": [
            "SFS 0.815\n"
          ]
        }
      ]
    },
    {
      "cell_type": "markdown",
      "metadata": {
        "id": "SuAcOgeX4-iR"
      },
      "source": [
        "### Вбудовані методи"
      ]
    },
    {
      "cell_type": "code",
      "metadata": {
        "colab": {
          "base_uri": "https://localhost:8080/"
        },
        "id": "92cesRyw5NtY",
        "outputId": "d3e70f71-10f2-40d9-8a08-47ea14efb958"
      },
      "source": [
        "from sklearn.linear_model import RidgeClassifier\n",
        "clf = RidgeClassifier().fit(x1, y[0:599])\n",
        "y_train_pred = clf.predict(x3)\n",
        "a_nb = accuracy_score(y[800:1000], y_train_pred_nb)\n",
        "print(\"_\",a_nb)"
      ],
      "execution_count": 12,
      "outputs": [
        {
          "output_type": "stream",
          "name": "stdout",
          "text": [
            "_ 0.815\n"
          ]
        }
      ]
    },
    {
      "cell_type": "markdown",
      "metadata": {
        "id": "LeJDWpI_6vN5"
      },
      "source": [
        "### Комбінуванняя методів"
      ]
    },
    {
      "cell_type": "code",
      "metadata": {
        "colab": {
          "base_uri": "https://localhost:8080/"
        },
        "id": "PCQXTM7f64Aa",
        "outputId": "cd88f86c-a8f2-4a52-9b1a-90df8c167130"
      },
      "source": [
        "from sklearn.feature_selection import RFE\n",
        "from sklearn.svm import SVR\n",
        "estimator = SVR(kernel=\"linear\")\n",
        "selector = RFE(estimator, n_features_to_select=10,step=10)\n",
        "selector.fit(X2, y[600:799])\n",
        "x_rfe_test=selector.transform(X1)\n",
        "x_rfe_train=selector.transform(X3)\n",
        "clf_nb = GaussianNB()\n",
        "# навчимо модель\n",
        "clf_nb.fit(x_rfe_test,y[0:599])\n",
        "# зробимо класифікацію за допомогою навченою моделі\n",
        "y_train_pred_nb = clf_nb.predict(x_rfe_train)\n",
        "#y_train_pred_nb = clf_nb.predict(X_train)\n",
        "a_nb = accuracy_score(y[800:1000], y_train_pred_nb)\n",
        "print(\"rfe\",a_nb)"
      ],
      "execution_count": null,
      "outputs": [
        {
          "output_type": "stream",
          "name": "stdout",
          "text": [
            "rfe 0.91\n"
          ]
        }
      ]
    }
  ]
}